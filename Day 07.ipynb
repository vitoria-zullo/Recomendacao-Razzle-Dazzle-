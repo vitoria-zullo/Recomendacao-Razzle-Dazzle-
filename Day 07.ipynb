{
 "cells": [
  {
   "cell_type": "code",
   "execution_count": 2,
   "id": "da37f4dd",
   "metadata": {},
   "outputs": [],
   "source": [
    "import pandas as pd\n",
    "import numpy as np\n",
    "import seaborn as sns"
   ]
  },
  {
   "cell_type": "code",
   "execution_count": 3,
   "id": "90935102",
   "metadata": {},
   "outputs": [],
   "source": [
    "from sklearn.metrics.pairwise import cosine_similarity"
   ]
  },
  {
   "cell_type": "markdown",
   "id": "64ee33cf",
   "metadata": {},
   "source": [
    "# Importação dos dados"
   ]
  },
  {
   "cell_type": "code",
   "execution_count": 4,
   "id": "90169995",
   "metadata": {},
   "outputs": [],
   "source": [
    "Order_items_caminho='DNC_order_items_dataset.csv'\n",
    "DfOrder_items=pd.read_csv(Order_items_caminho)"
   ]
  },
  {
   "cell_type": "code",
   "execution_count": 5,
   "id": "02f1b7b9",
   "metadata": {},
   "outputs": [],
   "source": [
    "Order_reviews_caminho='DNC_order_reviews_dataset.csv'\n",
    "DfOrder_reviews=pd.read_csv(Order_reviews_caminho)"
   ]
  },
  {
   "cell_type": "code",
   "execution_count": 6,
   "id": "218e1cd0",
   "metadata": {},
   "outputs": [],
   "source": [
    "Orders_caminho='DNC_orders_dataset.csv'\n",
    "DfOrder=pd.read_csv(Orders_caminho)"
   ]
  },
  {
   "cell_type": "code",
   "execution_count": 7,
   "id": "2fb3c4e5",
   "metadata": {},
   "outputs": [],
   "source": [
    "Products_caminho='DNC_products_dataset.csv'\n",
    "DfProducts=pd.read_csv(Products_caminho)"
   ]
  },
  {
   "cell_type": "markdown",
   "id": "bfd6f90f",
   "metadata": {},
   "source": [
    "# Entendimento dos dados"
   ]
  },
  {
   "cell_type": "code",
   "execution_count": 8,
   "id": "7be7891a",
   "metadata": {},
   "outputs": [],
   "source": [
    "dataframes=['DfOrder_items', 'DfOrder_reviews', 'DfOrder', 'DfProducts']"
   ]
  },
  {
   "cell_type": "code",
   "execution_count": 9,
   "id": "244c466b",
   "metadata": {},
   "outputs": [
    {
     "name": "stdout",
     "output_type": "stream",
     "text": [
      "<class 'pandas.core.frame.DataFrame'>\n",
      "RangeIndex: 112650 entries, 0 to 112649\n",
      "Data columns (total 5 columns):\n",
      " #   Column         Non-Null Count   Dtype  \n",
      "---  ------         --------------   -----  \n",
      " 0   Unnamed: 0     112650 non-null  int64  \n",
      " 1   order_id       112650 non-null  object \n",
      " 2   order_item_id  112650 non-null  int64  \n",
      " 3   product_id     112650 non-null  object \n",
      " 4   price          112650 non-null  float64\n",
      "dtypes: float64(1), int64(2), object(2)\n",
      "memory usage: 4.3+ MB\n"
     ]
    }
   ],
   "source": [
    "DfOrder_items.info()"
   ]
  },
  {
   "cell_type": "code",
   "execution_count": 10,
   "id": "0b0bab75",
   "metadata": {},
   "outputs": [
    {
     "data": {
      "text/plain": [
       "False    98666\n",
       "True     13984\n",
       "Name: order_id, dtype: int64"
      ]
     },
     "execution_count": 10,
     "metadata": {},
     "output_type": "execute_result"
    }
   ],
   "source": [
    "DfOrder_items['order_id'].duplicated().value_counts()"
   ]
  },
  {
   "cell_type": "code",
   "execution_count": 11,
   "id": "01f3aae6",
   "metadata": {},
   "outputs": [
    {
     "data": {
      "text/html": [
       "<div>\n",
       "<style scoped>\n",
       "    .dataframe tbody tr th:only-of-type {\n",
       "        vertical-align: middle;\n",
       "    }\n",
       "\n",
       "    .dataframe tbody tr th {\n",
       "        vertical-align: top;\n",
       "    }\n",
       "\n",
       "    .dataframe thead th {\n",
       "        text-align: right;\n",
       "    }\n",
       "</style>\n",
       "<table border=\"1\" class=\"dataframe\">\n",
       "  <thead>\n",
       "    <tr style=\"text-align: right;\">\n",
       "      <th></th>\n",
       "      <th>Unnamed: 0</th>\n",
       "      <th>order_id</th>\n",
       "      <th>order_item_id</th>\n",
       "      <th>product_id</th>\n",
       "      <th>price</th>\n",
       "    </tr>\n",
       "  </thead>\n",
       "  <tbody>\n",
       "    <tr>\n",
       "      <th>0</th>\n",
       "      <td>0</td>\n",
       "      <td>00010242fe8c5a6d1ba2dd792cb16214</td>\n",
       "      <td>1</td>\n",
       "      <td>4244733e06e7ecb4970a6e2683c13e61</td>\n",
       "      <td>58.90</td>\n",
       "    </tr>\n",
       "    <tr>\n",
       "      <th>1</th>\n",
       "      <td>1</td>\n",
       "      <td>00018f77f2f0320c557190d7a144bdd3</td>\n",
       "      <td>1</td>\n",
       "      <td>e5f2d52b802189ee658865ca93d83a8f</td>\n",
       "      <td>239.90</td>\n",
       "    </tr>\n",
       "    <tr>\n",
       "      <th>2</th>\n",
       "      <td>2</td>\n",
       "      <td>000229ec398224ef6ca0657da4fc703e</td>\n",
       "      <td>1</td>\n",
       "      <td>c777355d18b72b67abbeef9df44fd0fd</td>\n",
       "      <td>199.00</td>\n",
       "    </tr>\n",
       "    <tr>\n",
       "      <th>3</th>\n",
       "      <td>3</td>\n",
       "      <td>00024acbcdf0a6daa1e931b038114c75</td>\n",
       "      <td>1</td>\n",
       "      <td>7634da152a4610f1595efa32f14722fc</td>\n",
       "      <td>12.99</td>\n",
       "    </tr>\n",
       "    <tr>\n",
       "      <th>4</th>\n",
       "      <td>4</td>\n",
       "      <td>00042b26cf59d7ce69dfabb4e55b4fd9</td>\n",
       "      <td>1</td>\n",
       "      <td>ac6c3623068f30de03045865e4e10089</td>\n",
       "      <td>199.90</td>\n",
       "    </tr>\n",
       "    <tr>\n",
       "      <th>5</th>\n",
       "      <td>5</td>\n",
       "      <td>00048cc3ae777c65dbb7d2a0634bc1ea</td>\n",
       "      <td>1</td>\n",
       "      <td>ef92defde845ab8450f9d70c526ef70f</td>\n",
       "      <td>21.90</td>\n",
       "    </tr>\n",
       "    <tr>\n",
       "      <th>6</th>\n",
       "      <td>6</td>\n",
       "      <td>00054e8431b9d7675808bcb819fb4a32</td>\n",
       "      <td>1</td>\n",
       "      <td>8d4f2bb7e93e6710a28f34fa83ee7d28</td>\n",
       "      <td>19.90</td>\n",
       "    </tr>\n",
       "    <tr>\n",
       "      <th>7</th>\n",
       "      <td>7</td>\n",
       "      <td>000576fe39319847cbb9d288c5617fa6</td>\n",
       "      <td>1</td>\n",
       "      <td>557d850972a7d6f792fd18ae1400d9b6</td>\n",
       "      <td>810.00</td>\n",
       "    </tr>\n",
       "    <tr>\n",
       "      <th>8</th>\n",
       "      <td>8</td>\n",
       "      <td>0005a1a1728c9d785b8e2b08b904576c</td>\n",
       "      <td>1</td>\n",
       "      <td>310ae3c140ff94b03219ad0adc3c778f</td>\n",
       "      <td>145.95</td>\n",
       "    </tr>\n",
       "    <tr>\n",
       "      <th>9</th>\n",
       "      <td>9</td>\n",
       "      <td>0005f50442cb953dcd1d21e1fb923495</td>\n",
       "      <td>1</td>\n",
       "      <td>4535b0e1091c278dfd193e5a1d63b39f</td>\n",
       "      <td>53.99</td>\n",
       "    </tr>\n",
       "  </tbody>\n",
       "</table>\n",
       "</div>"
      ],
      "text/plain": [
       "   Unnamed: 0                          order_id  order_item_id  \\\n",
       "0           0  00010242fe8c5a6d1ba2dd792cb16214              1   \n",
       "1           1  00018f77f2f0320c557190d7a144bdd3              1   \n",
       "2           2  000229ec398224ef6ca0657da4fc703e              1   \n",
       "3           3  00024acbcdf0a6daa1e931b038114c75              1   \n",
       "4           4  00042b26cf59d7ce69dfabb4e55b4fd9              1   \n",
       "5           5  00048cc3ae777c65dbb7d2a0634bc1ea              1   \n",
       "6           6  00054e8431b9d7675808bcb819fb4a32              1   \n",
       "7           7  000576fe39319847cbb9d288c5617fa6              1   \n",
       "8           8  0005a1a1728c9d785b8e2b08b904576c              1   \n",
       "9           9  0005f50442cb953dcd1d21e1fb923495              1   \n",
       "\n",
       "                         product_id   price  \n",
       "0  4244733e06e7ecb4970a6e2683c13e61   58.90  \n",
       "1  e5f2d52b802189ee658865ca93d83a8f  239.90  \n",
       "2  c777355d18b72b67abbeef9df44fd0fd  199.00  \n",
       "3  7634da152a4610f1595efa32f14722fc   12.99  \n",
       "4  ac6c3623068f30de03045865e4e10089  199.90  \n",
       "5  ef92defde845ab8450f9d70c526ef70f   21.90  \n",
       "6  8d4f2bb7e93e6710a28f34fa83ee7d28   19.90  \n",
       "7  557d850972a7d6f792fd18ae1400d9b6  810.00  \n",
       "8  310ae3c140ff94b03219ad0adc3c778f  145.95  \n",
       "9  4535b0e1091c278dfd193e5a1d63b39f   53.99  "
      ]
     },
     "execution_count": 11,
     "metadata": {},
     "output_type": "execute_result"
    }
   ],
   "source": [
    "DfOrder_items.head(10)"
   ]
  },
  {
   "cell_type": "code",
   "execution_count": 12,
   "id": "8c20ef57",
   "metadata": {},
   "outputs": [],
   "source": [
    "DfOrder_items=DfOrder_items.drop(columns='Unnamed: 0')"
   ]
  },
  {
   "cell_type": "code",
   "execution_count": 13,
   "id": "c6009df9",
   "metadata": {},
   "outputs": [
    {
     "name": "stdout",
     "output_type": "stream",
     "text": [
      "<class 'pandas.core.frame.DataFrame'>\n",
      "RangeIndex: 99224 entries, 0 to 99223\n",
      "Data columns (total 4 columns):\n",
      " #   Column        Non-Null Count  Dtype \n",
      "---  ------        --------------  ----- \n",
      " 0   Unnamed: 0    99224 non-null  int64 \n",
      " 1   review_id     99224 non-null  object\n",
      " 2   order_id      99224 non-null  object\n",
      " 3   review_score  99224 non-null  int64 \n",
      "dtypes: int64(2), object(2)\n",
      "memory usage: 3.0+ MB\n"
     ]
    }
   ],
   "source": [
    "DfOrder_reviews.info()"
   ]
  },
  {
   "cell_type": "code",
   "execution_count": 14,
   "id": "9c280d74",
   "metadata": {},
   "outputs": [],
   "source": [
    "DfOrder_reviews=DfOrder_reviews.drop(columns='Unnamed: 0')"
   ]
  },
  {
   "cell_type": "code",
   "execution_count": 15,
   "id": "65cd02e4",
   "metadata": {},
   "outputs": [
    {
     "data": {
      "text/plain": [
       "5    57328\n",
       "4    19142\n",
       "1    11424\n",
       "3     8179\n",
       "2     3151\n",
       "Name: review_score, dtype: int64"
      ]
     },
     "execution_count": 15,
     "metadata": {},
     "output_type": "execute_result"
    }
   ],
   "source": [
    "DfOrder_reviews['review_score'].value_counts()"
   ]
  },
  {
   "cell_type": "code",
   "execution_count": 16,
   "id": "71a92a94",
   "metadata": {},
   "outputs": [
    {
     "name": "stdout",
     "output_type": "stream",
     "text": [
      "<class 'pandas.core.frame.DataFrame'>\n",
      "RangeIndex: 99441 entries, 0 to 99440\n",
      "Data columns (total 4 columns):\n",
      " #   Column        Non-Null Count  Dtype \n",
      "---  ------        --------------  ----- \n",
      " 0   Unnamed: 0    99441 non-null  int64 \n",
      " 1   order_id      99441 non-null  object\n",
      " 2   customer_id   99441 non-null  object\n",
      " 3   order_status  99441 non-null  object\n",
      "dtypes: int64(1), object(3)\n",
      "memory usage: 3.0+ MB\n"
     ]
    }
   ],
   "source": [
    "DfOrder.info()"
   ]
  },
  {
   "cell_type": "code",
   "execution_count": 17,
   "id": "fe07837d",
   "metadata": {},
   "outputs": [
    {
     "data": {
      "text/plain": [
       "False    99441\n",
       "Name: order_id, dtype: int64"
      ]
     },
     "execution_count": 17,
     "metadata": {},
     "output_type": "execute_result"
    }
   ],
   "source": [
    "DfOrder['order_id'].duplicated().value_counts()"
   ]
  },
  {
   "cell_type": "code",
   "execution_count": 18,
   "id": "4a9369f3",
   "metadata": {},
   "outputs": [
    {
     "data": {
      "text/plain": [
       "False    99441\n",
       "Name: customer_id, dtype: int64"
      ]
     },
     "execution_count": 18,
     "metadata": {},
     "output_type": "execute_result"
    }
   ],
   "source": [
    "DfOrder['customer_id'].duplicated().value_counts()"
   ]
  },
  {
   "cell_type": "code",
   "execution_count": 19,
   "id": "a8e40da9",
   "metadata": {},
   "outputs": [],
   "source": [
    "DfOrder=DfOrder.drop(columns='Unnamed: 0')"
   ]
  },
  {
   "cell_type": "code",
   "execution_count": 20,
   "id": "c4f9406d",
   "metadata": {},
   "outputs": [
    {
     "name": "stdout",
     "output_type": "stream",
     "text": [
      "<class 'pandas.core.frame.DataFrame'>\n",
      "RangeIndex: 32951 entries, 0 to 32950\n",
      "Data columns (total 9 columns):\n",
      " #   Column                      Non-Null Count  Dtype  \n",
      "---  ------                      --------------  -----  \n",
      " 0   Unnamed: 0                  32951 non-null  int64  \n",
      " 1   product_id                  32951 non-null  object \n",
      " 2   product_category_name       32341 non-null  object \n",
      " 3   product_name_lenght         32341 non-null  float64\n",
      " 4   product_description_lenght  32341 non-null  float64\n",
      " 5   product_weight_g            32949 non-null  float64\n",
      " 6   product_length_cm           32949 non-null  float64\n",
      " 7   product_height_cm           32949 non-null  float64\n",
      " 8   product_width_cm            32949 non-null  float64\n",
      "dtypes: float64(6), int64(1), object(2)\n",
      "memory usage: 2.3+ MB\n"
     ]
    }
   ],
   "source": [
    "DfProducts.info()"
   ]
  },
  {
   "cell_type": "code",
   "execution_count": 21,
   "id": "ae22a2cb",
   "metadata": {},
   "outputs": [
    {
     "data": {
      "text/plain": [
       "False    32951\n",
       "Name: product_id, dtype: int64"
      ]
     },
     "execution_count": 21,
     "metadata": {},
     "output_type": "execute_result"
    }
   ],
   "source": [
    "DfProducts['product_id'].duplicated().value_counts()"
   ]
  },
  {
   "cell_type": "code",
   "execution_count": 22,
   "id": "71232375",
   "metadata": {},
   "outputs": [],
   "source": [
    "DfProducts=DfProducts.drop(columns='Unnamed: 0')"
   ]
  },
  {
   "cell_type": "markdown",
   "id": "5910a63b",
   "metadata": {},
   "source": [
    "# Estruturação dos dados"
   ]
  },
  {
   "cell_type": "code",
   "execution_count": 23,
   "id": "fe097ada",
   "metadata": {},
   "outputs": [
    {
     "name": "stdout",
     "output_type": "stream",
     "text": [
      "<class 'pandas.core.frame.DataFrame'>\n",
      "Int64Index: 99992 entries, 0 to 99991\n",
      "Data columns (total 5 columns):\n",
      " #   Column        Non-Null Count  Dtype  \n",
      "---  ------        --------------  -----  \n",
      " 0   order_id      99992 non-null  object \n",
      " 1   customer_id   99992 non-null  object \n",
      " 2   order_status  99992 non-null  object \n",
      " 3   review_id     99224 non-null  object \n",
      " 4   review_score  99224 non-null  float64\n",
      "dtypes: float64(1), object(4)\n",
      "memory usage: 4.6+ MB\n"
     ]
    }
   ],
   "source": [
    "#Merge das informações\n",
    "\n",
    "dfMerge1 = DfOrder.merge(DfOrder_reviews, how='left', left_on='order_id', right_on='order_id',suffixes=['.Order','.reviews'])\n",
    "dfMerge1.info()"
   ]
  },
  {
   "cell_type": "code",
   "execution_count": 24,
   "id": "c227018f",
   "metadata": {},
   "outputs": [
    {
     "name": "stdout",
     "output_type": "stream",
     "text": [
      "<class 'pandas.core.frame.DataFrame'>\n",
      "Int64Index: 114092 entries, 0 to 114091\n",
      "Data columns (total 8 columns):\n",
      " #   Column         Non-Null Count   Dtype  \n",
      "---  ------         --------------   -----  \n",
      " 0   order_id       114092 non-null  object \n",
      " 1   customer_id    114092 non-null  object \n",
      " 2   order_status   114092 non-null  object \n",
      " 3   review_id      113131 non-null  object \n",
      " 4   review_score   113131 non-null  float64\n",
      " 5   order_item_id  113314 non-null  float64\n",
      " 6   product_id     113314 non-null  object \n",
      " 7   price          113314 non-null  float64\n",
      "dtypes: float64(3), object(5)\n",
      "memory usage: 7.8+ MB\n"
     ]
    }
   ],
   "source": [
    "dfMerge2=dfMerge1.merge(DfOrder_items, how='left', left_on='order_id', right_on='order_id',suffixes=['.OrderReviews','.items'])\n",
    "dfMerge2.info()"
   ]
  },
  {
   "cell_type": "code",
   "execution_count": 25,
   "id": "c694f968",
   "metadata": {},
   "outputs": [
    {
     "name": "stdout",
     "output_type": "stream",
     "text": [
      "<class 'pandas.core.frame.DataFrame'>\n",
      "Int64Index: 114092 entries, 0 to 114091\n",
      "Data columns (total 15 columns):\n",
      " #   Column                      Non-Null Count   Dtype  \n",
      "---  ------                      --------------   -----  \n",
      " 0   order_id                    114092 non-null  object \n",
      " 1   customer_id                 114092 non-null  object \n",
      " 2   order_status                114092 non-null  object \n",
      " 3   review_id                   113131 non-null  object \n",
      " 4   review_score                113131 non-null  float64\n",
      " 5   order_item_id               113314 non-null  float64\n",
      " 6   product_id                  113314 non-null  object \n",
      " 7   price                       113314 non-null  float64\n",
      " 8   product_category_name       111702 non-null  object \n",
      " 9   product_name_lenght         111702 non-null  float64\n",
      " 10  product_description_lenght  111702 non-null  float64\n",
      " 11  product_weight_g            113296 non-null  float64\n",
      " 12  product_length_cm           113296 non-null  float64\n",
      " 13  product_height_cm           113296 non-null  float64\n",
      " 14  product_width_cm            113296 non-null  float64\n",
      "dtypes: float64(9), object(6)\n",
      "memory usage: 13.9+ MB\n"
     ]
    }
   ],
   "source": [
    "dfMerge3=dfMerge2.merge(DfProducts,how='left',left_on='product_id',right_on='product_id',suffixes=['.items','.product'])\n",
    "dfMerge3.info()"
   ]
  },
  {
   "cell_type": "code",
   "execution_count": 26,
   "id": "25d0de5d",
   "metadata": {},
   "outputs": [
    {
     "data": {
      "text/plain": [
       "<AxesSubplot:>"
      ]
     },
     "execution_count": 26,
     "metadata": {},
     "output_type": "execute_result"
    },
    {
     "data": {
      "image/png": "[encoded data removed]",
      "text/plain": [
       "<Figure size 432x288 with 2 Axes>"
      ]
     },
     "metadata": {
      "needs_background": "light"
     },
     "output_type": "display_data"
    }
   ],
   "source": [
    "sns.heatmap(dfMerge3.corr(),annot=True,cmap='viridis')"
   ]
  },
  {
   "cell_type": "markdown",
   "id": "ccf26396",
   "metadata": {},
   "source": [
    "# Tratamento dos dados"
   ]
  },
  {
   "cell_type": "code",
   "execution_count": 27,
   "id": "d3181dc0",
   "metadata": {},
   "outputs": [
    {
     "data": {
      "text/plain": [
       "order_id                         0\n",
       "customer_id                      0\n",
       "order_status                     0\n",
       "review_id                      961\n",
       "review_score                   961\n",
       "order_item_id                  778\n",
       "product_id                     778\n",
       "price                          778\n",
       "product_category_name         2390\n",
       "product_name_lenght           2390\n",
       "product_description_lenght    2390\n",
       "product_weight_g               796\n",
       "product_length_cm              796\n",
       "product_height_cm              796\n",
       "product_width_cm               796\n",
       "dtype: int64"
      ]
     },
     "execution_count": 27,
     "metadata": {},
     "output_type": "execute_result"
    }
   ],
   "source": [
    "dfMerge3.isnull().sum()"
   ]
  },
  {
   "cell_type": "code",
   "execution_count": 28,
   "id": "cf996444",
   "metadata": {},
   "outputs": [],
   "source": [
    "#Categorias nulas representam 3% dos dados, sendo assim vão ser excluídas\n",
    "\n",
    "dfMerge3=dfMerge3.dropna(axis=0)"
   ]
  },
  {
   "cell_type": "code",
   "execution_count": 29,
   "id": "ccf5b1c7",
   "metadata": {},
   "outputs": [
    {
     "name": "stdout",
     "output_type": "stream",
     "text": [
      "<class 'pandas.core.frame.DataFrame'>\n",
      "Int64Index: 110773 entries, 0 to 114091\n",
      "Data columns (total 15 columns):\n",
      " #   Column                      Non-Null Count   Dtype  \n",
      "---  ------                      --------------   -----  \n",
      " 0   order_id                    110773 non-null  object \n",
      " 1   customer_id                 110773 non-null  object \n",
      " 2   order_status                110773 non-null  object \n",
      " 3   review_id                   110773 non-null  object \n",
      " 4   review_score                110773 non-null  float64\n",
      " 5   order_item_id               110773 non-null  float64\n",
      " 6   product_id                  110773 non-null  object \n",
      " 7   price                       110773 non-null  float64\n",
      " 8   product_category_name       110773 non-null  object \n",
      " 9   product_name_lenght         110773 non-null  float64\n",
      " 10  product_description_lenght  110773 non-null  float64\n",
      " 11  product_weight_g            110773 non-null  float64\n",
      " 12  product_length_cm           110773 non-null  float64\n",
      " 13  product_height_cm           110773 non-null  float64\n",
      " 14  product_width_cm            110773 non-null  float64\n",
      "dtypes: float64(9), object(6)\n",
      "memory usage: 13.5+ MB\n"
     ]
    }
   ],
   "source": [
    "dfMerge3.info()"
   ]
  },
  {
   "cell_type": "markdown",
   "id": "eda0e6de",
   "metadata": {},
   "source": [
    "# Criação do modelo"
   ]
  },
  {
   "cell_type": "code",
   "execution_count": 30,
   "id": "5cad699c",
   "metadata": {},
   "outputs": [
    {
     "data": {
      "text/html": [
       "<div>\n",
       "<style scoped>\n",
       "    .dataframe tbody tr th:only-of-type {\n",
       "        vertical-align: middle;\n",
       "    }\n",
       "\n",
       "    .dataframe tbody tr th {\n",
       "        vertical-align: top;\n",
       "    }\n",
       "\n",
       "    .dataframe thead th {\n",
       "        text-align: right;\n",
       "    }\n",
       "</style>\n",
       "<table border=\"1\" class=\"dataframe\">\n",
       "  <thead>\n",
       "    <tr style=\"text-align: right;\">\n",
       "      <th></th>\n",
       "      <th>order_count</th>\n",
       "    </tr>\n",
       "    <tr>\n",
       "      <th>customer_id</th>\n",
       "      <th></th>\n",
       "    </tr>\n",
       "  </thead>\n",
       "  <tbody>\n",
       "    <tr>\n",
       "      <th>00012a2ce6f8dcda20d059ce98491703</th>\n",
       "      <td>1</td>\n",
       "    </tr>\n",
       "    <tr>\n",
       "      <th>aa5e341090958e5111abe3ba75bcfe87</th>\n",
       "      <td>1</td>\n",
       "    </tr>\n",
       "    <tr>\n",
       "      <th>aa625e70d5e95d9b5c2c24e78fa0d75c</th>\n",
       "      <td>1</td>\n",
       "    </tr>\n",
       "    <tr>\n",
       "      <th>aa6190994371836fc1d4596edd827abd</th>\n",
       "      <td>1</td>\n",
       "    </tr>\n",
       "    <tr>\n",
       "      <th>aa606152f23a5fa9ba3d0b87f7a492e8</th>\n",
       "      <td>1</td>\n",
       "    </tr>\n",
       "    <tr>\n",
       "      <th>...</th>\n",
       "      <td>...</td>\n",
       "    </tr>\n",
       "    <tr>\n",
       "      <th>a7e7f8dff23d4445f62bebd3c2b0078e</th>\n",
       "      <td>1</td>\n",
       "    </tr>\n",
       "    <tr>\n",
       "      <th>a7e7ac71f48352503ff2a018aa31002d</th>\n",
       "      <td>1</td>\n",
       "    </tr>\n",
       "    <tr>\n",
       "      <th>a7e6b8b50366b318fc25f4b8fabb39b2</th>\n",
       "      <td>1</td>\n",
       "    </tr>\n",
       "    <tr>\n",
       "      <th>a7e5bb9b535b732710a58761d75bc310</th>\n",
       "      <td>1</td>\n",
       "    </tr>\n",
       "    <tr>\n",
       "      <th>a7e5291d821f4afc5754d432c358fe84</th>\n",
       "      <td>1</td>\n",
       "    </tr>\n",
       "  </tbody>\n",
       "</table>\n",
       "<p>1000 rows × 1 columns</p>\n",
       "</div>"
      ],
      "text/plain": [
       "                                  order_count\n",
       "customer_id                                  \n",
       "00012a2ce6f8dcda20d059ce98491703            1\n",
       "aa5e341090958e5111abe3ba75bcfe87            1\n",
       "aa625e70d5e95d9b5c2c24e78fa0d75c            1\n",
       "aa6190994371836fc1d4596edd827abd            1\n",
       "aa606152f23a5fa9ba3d0b87f7a492e8            1\n",
       "...                                       ...\n",
       "a7e7f8dff23d4445f62bebd3c2b0078e            1\n",
       "a7e7ac71f48352503ff2a018aa31002d            1\n",
       "a7e6b8b50366b318fc25f4b8fabb39b2            1\n",
       "a7e5bb9b535b732710a58761d75bc310            1\n",
       "a7e5291d821f4afc5754d432c358fe84            1\n",
       "\n",
       "[1000 rows x 1 columns]"
      ]
     },
     "execution_count": 30,
     "metadata": {},
     "output_type": "execute_result"
    }
   ],
   "source": [
    "#Modelo filtro colaborativo\n",
    "\n",
    "#1000 usuários mais ativos\n",
    "\n",
    "user_count=dfMerge3.groupby(by='customer_id',as_index=False).agg({'order_id':pd.Series.nunique}).rename(columns={'order_id':'order_count'})\n",
    "shop_count=user_count.set_index('customer_id')\n",
    "\n",
    "top1000_users=shop_count.sort_values('order_count',ascending=False).head(1000)\n",
    "#top1000_users=top1000_users.index.tolist()\n",
    "\n",
    "top1000_users"
   ]
  },
  {
   "cell_type": "code",
   "execution_count": 31,
   "id": "23fc6951",
   "metadata": {},
   "outputs": [
    {
     "data": {
      "text/html": [
       "<div>\n",
       "<style scoped>\n",
       "    .dataframe tbody tr th:only-of-type {\n",
       "        vertical-align: middle;\n",
       "    }\n",
       "\n",
       "    .dataframe tbody tr th {\n",
       "        vertical-align: top;\n",
       "    }\n",
       "\n",
       "    .dataframe thead th {\n",
       "        text-align: right;\n",
       "    }\n",
       "</style>\n",
       "<table border=\"1\" class=\"dataframe\">\n",
       "  <thead>\n",
       "    <tr style=\"text-align: right;\">\n",
       "      <th></th>\n",
       "      <th>order_count</th>\n",
       "    </tr>\n",
       "    <tr>\n",
       "      <th>product_id</th>\n",
       "      <th></th>\n",
       "    </tr>\n",
       "  </thead>\n",
       "  <tbody>\n",
       "    <tr>\n",
       "      <th>99a4788cb24856965c36a24e339b6058</th>\n",
       "      <td>458</td>\n",
       "    </tr>\n",
       "    <tr>\n",
       "      <th>aca2eb7d00ea1a7b8ebd4e68314663af</th>\n",
       "      <td>429</td>\n",
       "    </tr>\n",
       "    <tr>\n",
       "      <th>422879e10f46682990de24d770e7f83d</th>\n",
       "      <td>351</td>\n",
       "    </tr>\n",
       "    <tr>\n",
       "      <th>d1c427060a0f73f6b889a5c7c61f2ac4</th>\n",
       "      <td>320</td>\n",
       "    </tr>\n",
       "    <tr>\n",
       "      <th>389d119b48cf3043d311335e499d9c6b</th>\n",
       "      <td>310</td>\n",
       "    </tr>\n",
       "    <tr>\n",
       "      <th>...</th>\n",
       "      <td>...</td>\n",
       "    </tr>\n",
       "    <tr>\n",
       "      <th>25d6edcd216a9ee579f19f92d694f7d5</th>\n",
       "      <td>14</td>\n",
       "    </tr>\n",
       "    <tr>\n",
       "      <th>e8c6039a25765995ac7c1ec2cbef5765</th>\n",
       "      <td>14</td>\n",
       "    </tr>\n",
       "    <tr>\n",
       "      <th>81b6c7c058add831803fcbba6dcc1df2</th>\n",
       "      <td>14</td>\n",
       "    </tr>\n",
       "    <tr>\n",
       "      <th>7c898e0b8ea203dd94ba846627fc34d1</th>\n",
       "      <td>14</td>\n",
       "    </tr>\n",
       "    <tr>\n",
       "      <th>946344697156947d846d27fe0d503033</th>\n",
       "      <td>14</td>\n",
       "    </tr>\n",
       "  </tbody>\n",
       "</table>\n",
       "<p>1000 rows × 1 columns</p>\n",
       "</div>"
      ],
      "text/plain": [
       "                                  order_count\n",
       "product_id                                   \n",
       "99a4788cb24856965c36a24e339b6058          458\n",
       "aca2eb7d00ea1a7b8ebd4e68314663af          429\n",
       "422879e10f46682990de24d770e7f83d          351\n",
       "d1c427060a0f73f6b889a5c7c61f2ac4          320\n",
       "389d119b48cf3043d311335e499d9c6b          310\n",
       "...                                       ...\n",
       "25d6edcd216a9ee579f19f92d694f7d5           14\n",
       "e8c6039a25765995ac7c1ec2cbef5765           14\n",
       "81b6c7c058add831803fcbba6dcc1df2           14\n",
       "7c898e0b8ea203dd94ba846627fc34d1           14\n",
       "946344697156947d846d27fe0d503033           14\n",
       "\n",
       "[1000 rows x 1 columns]"
      ]
     },
     "execution_count": 31,
     "metadata": {},
     "output_type": "execute_result"
    }
   ],
   "source": [
    "#Modelo filtro colaborativo\n",
    "\n",
    "#1000 produtos mais comprados\n",
    "\n",
    "product_count=dfMerge3.groupby(by='product_id',as_index=False).agg({'order_id':pd.Series.nunique}).rename(columns={'order_id':'order_count'})\n",
    "shop_count=product_count.set_index('product_id')\n",
    "\n",
    "top1000_products=shop_count.sort_values('order_count',ascending=False).head(1000)\n",
    "#top1000_users=top1000_users.index.tolist()\n",
    "\n",
    "top1000_products"
   ]
  },
  {
   "cell_type": "code",
   "execution_count": 201,
   "id": "67889482",
   "metadata": {},
   "outputs": [
    {
     "data": {
      "text/html": [
       "<div>\n",
       "<style scoped>\n",
       "    .dataframe tbody tr th:only-of-type {\n",
       "        vertical-align: middle;\n",
       "    }\n",
       "\n",
       "    .dataframe tbody tr th {\n",
       "        vertical-align: top;\n",
       "    }\n",
       "\n",
       "    .dataframe thead th {\n",
       "        text-align: right;\n",
       "    }\n",
       "</style>\n",
       "<table border=\"1\" class=\"dataframe\">\n",
       "  <thead>\n",
       "    <tr style=\"text-align: right;\">\n",
       "      <th></th>\n",
       "      <th>product_id</th>\n",
       "      <th>soma_rate</th>\n",
       "    </tr>\n",
       "  </thead>\n",
       "  <tbody>\n",
       "    <tr>\n",
       "      <th>0</th>\n",
       "      <td>00066f42aeeb9f3007548bb9d3f33c38</td>\n",
       "      <td>5.0</td>\n",
       "    </tr>\n",
       "    <tr>\n",
       "      <th>1</th>\n",
       "      <td>6000cda32a1e7f6919ae1fcdf1d6259a</td>\n",
       "      <td>5.0</td>\n",
       "    </tr>\n",
       "    <tr>\n",
       "      <th>2</th>\n",
       "      <td>5fe490e61e7a37f2f0d1ad1771ac027d</td>\n",
       "      <td>5.0</td>\n",
       "    </tr>\n",
       "    <tr>\n",
       "      <th>3</th>\n",
       "      <td>c6ab810300ecce0784a66d36fcb5560f</td>\n",
       "      <td>5.0</td>\n",
       "    </tr>\n",
       "    <tr>\n",
       "      <th>4</th>\n",
       "      <td>c6ab3d8f4227913c4fa99e94ef84aa70</td>\n",
       "      <td>5.0</td>\n",
       "    </tr>\n",
       "    <tr>\n",
       "      <th>...</th>\n",
       "      <td>...</td>\n",
       "      <td>...</td>\n",
       "    </tr>\n",
       "    <tr>\n",
       "      <th>32178</th>\n",
       "      <td>336b5407e252cac6f4e4270979cec8ad</td>\n",
       "      <td>1.0</td>\n",
       "    </tr>\n",
       "    <tr>\n",
       "      <th>32179</th>\n",
       "      <td>b0c7a71c8620bd389e240f63a507dc50</td>\n",
       "      <td>1.0</td>\n",
       "    </tr>\n",
       "    <tr>\n",
       "      <th>32180</th>\n",
       "      <td>86304b9e4529f2686bc91f37c6392801</td>\n",
       "      <td>1.0</td>\n",
       "    </tr>\n",
       "    <tr>\n",
       "      <th>32181</th>\n",
       "      <td>334f9a7bc70ecefea3a1fc7dd1c7ec76</td>\n",
       "      <td>1.0</td>\n",
       "    </tr>\n",
       "    <tr>\n",
       "      <th>32182</th>\n",
       "      <td>4e8e9ef9e7003217fb1fe04df616fa69</td>\n",
       "      <td>1.0</td>\n",
       "    </tr>\n",
       "  </tbody>\n",
       "</table>\n",
       "<p>32183 rows × 2 columns</p>\n",
       "</div>"
      ],
      "text/plain": [
       "                             product_id  soma_rate\n",
       "0      00066f42aeeb9f3007548bb9d3f33c38        5.0\n",
       "1      6000cda32a1e7f6919ae1fcdf1d6259a        5.0\n",
       "2      5fe490e61e7a37f2f0d1ad1771ac027d        5.0\n",
       "3      c6ab810300ecce0784a66d36fcb5560f        5.0\n",
       "4      c6ab3d8f4227913c4fa99e94ef84aa70        5.0\n",
       "...                                 ...        ...\n",
       "32178  336b5407e252cac6f4e4270979cec8ad        1.0\n",
       "32179  b0c7a71c8620bd389e240f63a507dc50        1.0\n",
       "32180  86304b9e4529f2686bc91f37c6392801        1.0\n",
       "32181  334f9a7bc70ecefea3a1fc7dd1c7ec76        1.0\n",
       "32182  4e8e9ef9e7003217fb1fe04df616fa69        1.0\n",
       "\n",
       "[32183 rows x 2 columns]"
      ]
     },
     "execution_count": 201,
     "metadata": {},
     "output_type": "execute_result"
    }
   ],
   "source": [
    "#Modelo filtro colaborativo\n",
    "\n",
    "#produtos melhor classificados\n",
    "\n",
    "product_rated=dfMerge3.groupby(by='product_id',as_index=False).agg({'review_score':np.mean}).rename(columns={'review_score':'soma_rate'})\n",
    "shop_count=product_rated.set_index('product_id')\n",
    "\n",
    "top100_products_score=shop_count.sort_values('soma_rate',ascending=False)\n",
    "top100_products_score=top100_products_score.reset_index()\n",
    "\n",
    "top100_products_score"
   ]
  },
  {
   "cell_type": "code",
   "execution_count": 34,
   "id": "f2ad44e0",
   "metadata": {},
   "outputs": [
    {
     "data": {
      "text/html": [
       "<div>\n",
       "<style scoped>\n",
       "    .dataframe tbody tr th:only-of-type {\n",
       "        vertical-align: middle;\n",
       "    }\n",
       "\n",
       "    .dataframe tbody tr th {\n",
       "        vertical-align: top;\n",
       "    }\n",
       "\n",
       "    .dataframe thead th {\n",
       "        text-align: right;\n",
       "    }\n",
       "</style>\n",
       "<table border=\"1\" class=\"dataframe\">\n",
       "  <thead>\n",
       "    <tr style=\"text-align: right;\">\n",
       "      <th></th>\n",
       "      <th>order_count</th>\n",
       "    </tr>\n",
       "    <tr>\n",
       "      <th>product_category_name</th>\n",
       "      <th></th>\n",
       "    </tr>\n",
       "  </thead>\n",
       "  <tbody>\n",
       "    <tr>\n",
       "      <th>cama_mesa_banho</th>\n",
       "      <td>9313</td>\n",
       "    </tr>\n",
       "    <tr>\n",
       "      <th>beleza_saude</th>\n",
       "      <td>8771</td>\n",
       "    </tr>\n",
       "    <tr>\n",
       "      <th>esporte_lazer</th>\n",
       "      <td>7669</td>\n",
       "    </tr>\n",
       "    <tr>\n",
       "      <th>informatica_acessorios</th>\n",
       "      <td>6649</td>\n",
       "    </tr>\n",
       "    <tr>\n",
       "      <th>moveis_decoracao</th>\n",
       "      <td>6398</td>\n",
       "    </tr>\n",
       "    <tr>\n",
       "      <th>utilidades_domesticas</th>\n",
       "      <td>5843</td>\n",
       "    </tr>\n",
       "    <tr>\n",
       "      <th>relogios_presentes</th>\n",
       "      <td>5576</td>\n",
       "    </tr>\n",
       "    <tr>\n",
       "      <th>telefonia</th>\n",
       "      <td>4168</td>\n",
       "    </tr>\n",
       "    <tr>\n",
       "      <th>automotivo</th>\n",
       "      <td>3877</td>\n",
       "    </tr>\n",
       "    <tr>\n",
       "      <th>brinquedos</th>\n",
       "      <td>3853</td>\n",
       "    </tr>\n",
       "  </tbody>\n",
       "</table>\n",
       "</div>"
      ],
      "text/plain": [
       "                        order_count\n",
       "product_category_name              \n",
       "cama_mesa_banho                9313\n",
       "beleza_saude                   8771\n",
       "esporte_lazer                  7669\n",
       "informatica_acessorios         6649\n",
       "moveis_decoracao               6398\n",
       "utilidades_domesticas          5843\n",
       "relogios_presentes             5576\n",
       "telefonia                      4168\n",
       "automotivo                     3877\n",
       "brinquedos                     3853"
      ]
     },
     "execution_count": 34,
     "metadata": {},
     "output_type": "execute_result"
    }
   ],
   "source": [
    "#Modelo filtro colaborativo\n",
    "\n",
    "#10 categorias mais compradas\n",
    "\n",
    "product_category_count=dfMerge3.groupby(by='product_category_name',as_index=False).agg({'order_id':pd.Series.nunique}).rename(columns={'order_id':'order_count'})\n",
    "shop_count=product_category_count.set_index('product_category_name')\n",
    "\n",
    "top10_products_category=shop_count.sort_values('order_count',ascending=False).head(10)\n",
    "#top1000_users=top1000_users.index.tolist()\n",
    "\n",
    "top10_products_category"
   ]
  },
  {
   "cell_type": "code",
   "execution_count": 35,
   "id": "ab989cc1",
   "metadata": {},
   "outputs": [
    {
     "data": {
      "text/html": [
       "<div>\n",
       "<style scoped>\n",
       "    .dataframe tbody tr th:only-of-type {\n",
       "        vertical-align: middle;\n",
       "    }\n",
       "\n",
       "    .dataframe tbody tr th {\n",
       "        vertical-align: top;\n",
       "    }\n",
       "\n",
       "    .dataframe thead th {\n",
       "        text-align: right;\n",
       "    }\n",
       "</style>\n",
       "<table border=\"1\" class=\"dataframe\">\n",
       "  <thead>\n",
       "    <tr style=\"text-align: right;\">\n",
       "      <th></th>\n",
       "      <th>review_sum</th>\n",
       "    </tr>\n",
       "    <tr>\n",
       "      <th>product_category_name</th>\n",
       "      <th></th>\n",
       "    </tr>\n",
       "  </thead>\n",
       "  <tbody>\n",
       "    <tr>\n",
       "      <th>cama_mesa_banho</th>\n",
       "      <td>43386.0</td>\n",
       "    </tr>\n",
       "    <tr>\n",
       "      <th>beleza_saude</th>\n",
       "      <td>39957.0</td>\n",
       "    </tr>\n",
       "    <tr>\n",
       "      <th>esporte_lazer</th>\n",
       "      <td>35493.0</td>\n",
       "    </tr>\n",
       "    <tr>\n",
       "      <th>moveis_decoracao</th>\n",
       "      <td>32520.0</td>\n",
       "    </tr>\n",
       "    <tr>\n",
       "      <th>informatica_acessorios</th>\n",
       "      <td>30853.0</td>\n",
       "    </tr>\n",
       "    <tr>\n",
       "      <th>utilidades_domesticas</th>\n",
       "      <td>28154.0</td>\n",
       "    </tr>\n",
       "    <tr>\n",
       "      <th>relogios_presentes</th>\n",
       "      <td>23914.0</td>\n",
       "    </tr>\n",
       "    <tr>\n",
       "      <th>telefonia</th>\n",
       "      <td>17828.0</td>\n",
       "    </tr>\n",
       "    <tr>\n",
       "      <th>ferramentas_jardim</th>\n",
       "      <td>17501.0</td>\n",
       "    </tr>\n",
       "    <tr>\n",
       "      <th>automotivo</th>\n",
       "      <td>17128.0</td>\n",
       "    </tr>\n",
       "  </tbody>\n",
       "</table>\n",
       "</div>"
      ],
      "text/plain": [
       "                        review_sum\n",
       "product_category_name             \n",
       "cama_mesa_banho            43386.0\n",
       "beleza_saude               39957.0\n",
       "esporte_lazer              35493.0\n",
       "moveis_decoracao           32520.0\n",
       "informatica_acessorios     30853.0\n",
       "utilidades_domesticas      28154.0\n",
       "relogios_presentes         23914.0\n",
       "telefonia                  17828.0\n",
       "ferramentas_jardim         17501.0\n",
       "automotivo                 17128.0"
      ]
     },
     "execution_count": 35,
     "metadata": {},
     "output_type": "execute_result"
    }
   ],
   "source": [
    "#Modelo filtro colaborativo\n",
    "\n",
    "#10 categorias melhor classificados\n",
    "\n",
    "product_category_bestreviews=dfMerge3.groupby(by='product_category_name',as_index=False).agg({'review_score':np.mean}).rename(columns={'review_score':'review_sum'})\n",
    "shop_count=product_category_bestreviews.set_index('product_category_name')\n",
    "\n",
    "top10_products_category_review=shop_count.sort_values('review_sum',ascending=False).head(10)\n",
    "#top1000_users=top1000_users.index.tolist()\n",
    "\n",
    "top10_products_category_review"
   ]
  },
  {
   "cell_type": "code",
   "execution_count": 209,
   "id": "4f1ada7b",
   "metadata": {},
   "outputs": [
    {
     "name": "stdout",
     "output_type": "stream",
     "text": [
      "<class 'pandas.core.frame.DataFrame'>\n",
      "Index: 32183 entries, 00066f42aeeb9f3007548bb9d3f33c38 to fffe9eeff12fcbd74a2f2b007dde0c58\n",
      "Data columns (total 73 columns):\n",
      " #   Column                                          Non-Null Count  Dtype  \n",
      "---  ------                                          --------------  -----  \n",
      " 0   agro_industria_e_comercio                       32183 non-null  float64\n",
      " 1   alimentos                                       32183 non-null  float64\n",
      " 2   alimentos_bebidas                               32183 non-null  float64\n",
      " 3   artes                                           32183 non-null  float64\n",
      " 4   artes_e_artesanato                              32183 non-null  float64\n",
      " 5   artigos_de_festas                               32183 non-null  float64\n",
      " 6   artigos_de_natal                                32183 non-null  float64\n",
      " 7   audio                                           32183 non-null  float64\n",
      " 8   automotivo                                      32183 non-null  float64\n",
      " 9   bebes                                           32183 non-null  float64\n",
      " 10  bebidas                                         32183 non-null  float64\n",
      " 11  beleza_saude                                    32183 non-null  float64\n",
      " 12  brinquedos                                      32183 non-null  float64\n",
      " 13  cama_mesa_banho                                 32183 non-null  float64\n",
      " 14  casa_conforto                                   32183 non-null  float64\n",
      " 15  casa_conforto_2                                 32183 non-null  float64\n",
      " 16  casa_construcao                                 32183 non-null  float64\n",
      " 17  cds_dvds_musicais                               32183 non-null  float64\n",
      " 18  cine_foto                                       32183 non-null  float64\n",
      " 19  climatizacao                                    32183 non-null  float64\n",
      " 20  consoles_games                                  32183 non-null  float64\n",
      " 21  construcao_ferramentas_construcao               32183 non-null  float64\n",
      " 22  construcao_ferramentas_ferramentas              32183 non-null  float64\n",
      " 23  construcao_ferramentas_iluminacao               32183 non-null  float64\n",
      " 24  construcao_ferramentas_jardim                   32183 non-null  float64\n",
      " 25  construcao_ferramentas_seguranca                32183 non-null  float64\n",
      " 26  cool_stuff                                      32183 non-null  float64\n",
      " 27  dvds_blu_ray                                    32183 non-null  float64\n",
      " 28  eletrodomesticos                                32183 non-null  float64\n",
      " 29  eletrodomesticos_2                              32183 non-null  float64\n",
      " 30  eletronicos                                     32183 non-null  float64\n",
      " 31  eletroportateis                                 32183 non-null  float64\n",
      " 32  esporte_lazer                                   32183 non-null  float64\n",
      " 33  fashion_bolsas_e_acessorios                     32183 non-null  float64\n",
      " 34  fashion_calcados                                32183 non-null  float64\n",
      " 35  fashion_esporte                                 32183 non-null  float64\n",
      " 36  fashion_roupa_feminina                          32183 non-null  float64\n",
      " 37  fashion_roupa_infanto_juvenil                   32183 non-null  float64\n",
      " 38  fashion_roupa_masculina                         32183 non-null  float64\n",
      " 39  fashion_underwear_e_moda_praia                  32183 non-null  float64\n",
      " 40  ferramentas_jardim                              32183 non-null  float64\n",
      " 41  flores                                          32183 non-null  float64\n",
      " 42  fraldas_higiene                                 32183 non-null  float64\n",
      " 43  industria_comercio_e_negocios                   32183 non-null  float64\n",
      " 44  informatica_acessorios                          32183 non-null  float64\n",
      " 45  instrumentos_musicais                           32183 non-null  float64\n",
      " 46  la_cuisine                                      32183 non-null  float64\n",
      " 47  livros_importados                               32183 non-null  float64\n",
      " 48  livros_interesse_geral                          32183 non-null  float64\n",
      " 49  livros_tecnicos                                 32183 non-null  float64\n",
      " 50  malas_acessorios                                32183 non-null  float64\n",
      " 51  market_place                                    32183 non-null  float64\n",
      " 52  moveis_colchao_e_estofado                       32183 non-null  float64\n",
      " 53  moveis_cozinha_area_de_servico_jantar_e_jardim  32183 non-null  float64\n",
      " 54  moveis_decoracao                                32183 non-null  float64\n",
      " 55  moveis_escritorio                               32183 non-null  float64\n",
      " 56  moveis_quarto                                   32183 non-null  float64\n",
      " 57  moveis_sala                                     32183 non-null  float64\n",
      " 58  musica                                          32183 non-null  float64\n",
      " 59  papelaria                                       32183 non-null  float64\n",
      " 60  pc_gamer                                        32183 non-null  float64\n",
      " 61  pcs                                             32183 non-null  float64\n",
      " 62  perfumaria                                      32183 non-null  float64\n",
      " 63  pet_shop                                        32183 non-null  float64\n",
      " 64  portateis_casa_forno_e_cafe                     32183 non-null  float64\n",
      " 65  portateis_cozinha_e_preparadores_de_alimentos   32183 non-null  float64\n",
      " 66  relogios_presentes                              32183 non-null  float64\n",
      " 67  seguros_e_servicos                              32183 non-null  float64\n",
      " 68  sinalizacao_e_seguranca                         32183 non-null  float64\n",
      " 69  tablets_impressao_imagem                        32183 non-null  float64\n",
      " 70  telefonia                                       32183 non-null  float64\n",
      " 71  telefonia_fixa                                  32183 non-null  float64\n",
      " 72  utilidades_domesticas                           32183 non-null  float64\n",
      "dtypes: float64(73)\n",
      "memory usage: 18.2+ MB\n"
     ]
    }
   ],
   "source": [
    "matriz_de_relacionamento_best_reviews = dfMerge3[dfMerge3[\"product_id\"].isin(top100_products_score[\"product_id\"])] \\\n",
    "  .pivot_table(index=\"product_id\", columns=\"product_category_name\", values=\"review_score\").fillna(0)\n",
    "\n",
    "matriz_de_relacionamento_best_reviews.info()"
   ]
  },
  {
   "cell_type": "code",
   "execution_count": 203,
   "id": "998c7feb",
   "metadata": {},
   "outputs": [
    {
     "data": {
      "text/plain": [
       "(32183, 32183)"
      ]
     },
     "execution_count": 203,
     "metadata": {},
     "output_type": "execute_result"
    }
   ],
   "source": [
    "#matriz de similaridade\n",
    "\n",
    "cos_products=cosine_similarity(matriz_de_relacionamento_best_reviews)\n",
    "\n",
    "cos_products.shape"
   ]
  },
  {
   "cell_type": "code",
   "execution_count": 220,
   "id": "ded453ac",
   "metadata": {},
   "outputs": [],
   "source": [
    "def recomendar(product_id):\n",
    "  print(f\"Produto observado: {product_id}\")\n",
    "  try:\n",
    "    produto_x = matriz_de_relacionamento_best_reviews.index.tolist().index(product_id)\n",
    "    top10_recomendados = np.argsort(-cos_products[produto_x])[1:11]\n",
    "    print(top10_recomendados)\n",
    "    print()\n",
    "    print(f\"Retornando os 10 produtos mais similares de: {product_id}.\")\n",
    "    print(matriz_de_relacionamento_best_reviews.index[top10_recomendados])\n",
    "  except ValueError as e:\n",
    "    print(f\"{product_id}, não está incluso na matriz de recomendação. Retornando os 10 comprados\")\n",
    "    print(top100_products_score['product_id'].tolist())\n"
   ]
  },
  {
   "cell_type": "markdown",
   "id": "a8e3d3fd",
   "metadata": {},
   "source": [
    "# Teste do Modelo"
   ]
  },
  {
   "cell_type": "code",
   "execution_count": 221,
   "id": "96b82993",
   "metadata": {},
   "outputs": [
    {
     "name": "stdout",
     "output_type": "stream",
     "text": [
      "Produto observado: 00066f42aeeb9f3007548bb9d3f33c38\n",
      "[30995 23022 23025 28835 28833 31011 28826  1221 23036  5273]\n",
      "\n",
      "Retornando os 10 produtos mais similares de: 00066f42aeeb9f3007548bb9d3f33c38.\n",
      "Index(['f695f05f9b5b47de78cd7278d748487f', 'b79a274e7373a1bfcbd788a239591dec',\n",
      "       'b7a2d0cb90ba252129d34d7c8d079d2b', 'e5433d154f98bcb2c139b9679fce0814',\n",
      "       'e5403f78625641d4ae41af599772fbfd', 'f6bbece0c618d7313bbaf6fc919149b8',\n",
      "       'e53197022fd9f554e01b9cf4f3c9f249', '09cb4aa62c518d0842e1c5f28ac940ff',\n",
      "       'b7b00b45c6be180aba844784c6769d12', '28f486789a96800dc97bb98e780e6d31'],\n",
      "      dtype='object', name='product_id')\n"
     ]
    }
   ],
   "source": [
    "top30=recomendar('00066f42aeeb9f3007548bb9d3f33c38')"
   ]
  }
 ],
 "metadata": {
  "kernelspec": {
   "display_name": "Python 3",
   "language": "python",
   "name": "python3"
  },
  "language_info": {
   "codemirror_mode": {
    "name": "ipython",
    "version": 3
   },
   "file_extension": ".py",
   "mimetype": "text/x-python",
   "name": "python",
   "nbconvert_exporter": "python",
   "pygments_lexer": "ipython3",
   "version": "3.8.8"
  }
 },
 "nbformat": 4,
 "nbformat_minor": 5
}
